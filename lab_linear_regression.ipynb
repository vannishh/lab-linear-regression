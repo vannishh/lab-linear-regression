{
  "cells": [
    {
      "cell_type": "markdown",
      "metadata": {
        "id": "LAsrlVfGi__7"
      },
      "source": [
        "# Линейная регрессия"
      ]
    },
    {
      "cell_type": "markdown",
      "metadata": {
        "id": "Kk0gn6G0i__8"
      },
      "source": [
        "## 1. Поиск градиента\n",
        "\n",
        "Продолжить формулу для взятия векторной производной по х для функции квадрата ошибки <br>(в красивом формате со всеми значками угловых скобок, операторов и т. д.). После выполнения этого вы вспомните формулу градиента для квадратичной ошибки и поймете как писать формулы на языке математической верстки TeX\n",
        "\n",
        "$$\n",
        "f(x) = \\|Ax - y\\|^2 = (Ax - y)^T (Ax - y)\n",
        "$$\n",
        "$$\n",
        "D_f(x) = d \\langle (Ax - y)^T (Ax - y) \\rangle =\n",
        "$$\n",
        "$$\n",
        "= \\langle d(Ax - y), (Ax - y) \\rangle + \\langle (Ax - y), d(Ax - y) \\rangle =\n",
        "$$\n",
        "$$\n",
        "= \\langle (Ax - y), d(Ax - y) \\rangle + \\langle (Ax - y), d(Ax - y) \\rangle =\n",
        "$$\n",
        "$$\n",
        "= 2 \\langle (Ax - y), d(Ax - y) \\rangle =\n",
        "$$\n",
        "$$\n",
        "= 2 \\langle (Ax - y), A dx \\rangle =\n",
        "$$\n",
        "$$\n",
        "= 2 (Ax - y)^T A dx =\n",
        "$$\n",
        "$$\n",
        "= 2 ((Ax - y)^T A)^{T^T} dx =\n",
        "$$\n",
        "$$\n",
        "= 2 (A^T (Ax - y))^T dx =\n",
        "$$\n",
        "$$\n",
        "D_f(x) = \\langle 2 A^T (Ax - y), dx \\rangle\n",
        "$$\n",
        "$$\n",
        "D_f(x) = \\langle \\nabla f(x), dx \\rangle \\Rightarrow\n",
        "$$\n",
        "$$\n",
        "\\nabla f(x) = 2 A^T (Ax - y)\n",
        "$$"
      ]
    },
    {
      "cell_type": "markdown",
      "metadata": {
        "id": "Ia-Zy2tyi__8"
      },
      "source": [
        "## 2. Прямое решение через ноль производной\n",
        "\n",
        "После пункта 1 у вас есть формула для градиента квадратичной функции ошибки. Она измеряет уровень \"неверности\" решения (вектора $\\vec{x}$). Теперь её надо приравнять к 0 и построить формулу, чтобы узнать при каком x это происходит.\n",
        "\n",
        "$$ \\nabla f(x) = 2A^T(Ax - y) = 0$$\n",
        "$$ A^TAx - A^Ty = 0 $$\n",
        "$$ A^TAx = A^Ty $$\n",
        "$$ x = (A^TA)^{-1}A^Ty$$"
      ]
    },
    {
      "cell_type": "markdown",
      "metadata": {
        "id": "vKKyFfj6i__8"
      },
      "source": [
        "### 2.1 Реализация прямого решения"
      ]
    },
    {
      "cell_type": "code",
      "execution_count": null,
      "metadata": {
        "id": "PzecwMJOi__8"
      },
      "outputs": [],
      "source": [
        "import numpy as np\n",
        "import matplotlib.pyplot as plt"
      ]
    },
    {
      "cell_type": "code",
      "execution_count": null,
      "metadata": {
        "id": "utls3Svgi__9",
        "outputId": "b17269b6-233c-4525-bd08-31b8080f4bc4"
      },
      "outputs": [
        {
          "data": {
            "image/png": "[encoded data removed]",
            "text/plain": [
              "<Figure size 700x700 with 1 Axes>"
            ]
          },
          "metadata": {},
          "output_type": "display_data"
        }
      ],
      "source": [
        "# ваши параметры по вариантам\n",
        "n = 9\n",
        "a_orig = (-1)**n * 0.1 * n # по формуле (-1)^n * 0.1 * n, n - номер в списке группы\n",
        "b_orig = n * (-1)**(n+1) # по формуле n*(-1)^(n+1), где n - номер в списке группы\n",
        "random_state = n # х, где х - номер в списке группы\n",
        "\n",
        "# это тот самый столбец который мы и должны отыскать будем нашими методами.\n",
        "# сейчас конечно мы его знаем наперед потому что нам надо создать данные\n",
        "# но в жизни мы изначально этих чисел не знаем и в жизни задача в том чтобы их найти\n",
        "x_orig = np.array([a_orig, b_orig])\n",
        "\n",
        "np.random.seed(random_state)\n",
        "\n",
        "A = np.stack([np.arange(0, 25), np.ones(25)]).T\n",
        "\n",
        "# @ - операция матричного умножения в библиотеке NumPy\n",
        "y = A @ x_orig + np.random.standard_normal(25)\n",
        "# добавили нормально распределённого шума в данных\n",
        "# этим система станет несовместна для обычного решения\n",
        "\n",
        "f, ax = plt.subplots(figsize=(7, 7))\n",
        "\n",
        "# A[:, 0] - выбрать первый столбец, A[0, :] - выбрать первую строку\n",
        "plt.scatter(A[:, 0], y)\n",
        "print(f'Исходные данные: x_orig = {a_orig:.1f}, b_orig = {b_orig}')\n",
        "ax.set_xlim(-25, 25)\n",
        "ax.set_ylim(-25, 25)\n",
        "# рисуем координатные оси\n",
        "ax.axvline(0, color=\"black\")\n",
        "ax.axhline(0, color=\"black\")\n",
        "ax.grid(True)"
      ]
    },
    {
      "cell_type": "code",
      "execution_count": null,
      "metadata": {
        "id": "Njgu_Zati__9"
      },
      "outputs": [],
      "source": [
        "A, y"
      ]
    },
    {
      "cell_type": "markdown",
      "metadata": {
        "id": "TWp4dlWQi__9"
      },
      "source": [
        "### Вопрос - зачем был дописан вектор единиц справа к иксу?\n",
        "\n",
        "ответ - Чтобы модель могла учитывать свободный член (сдвиг по оси y). Это делает модель линейной не только по наклону, но и по положению прямой. Это как\n",
        "𝑦=𝑎𝑥+𝑏: добавление столбца единиц позволяет регрессии вычислить коэффициент 𝑏, что позволяет улучшить точность и соответсвтие данным."
      ]
    },
    {
      "cell_type": "code",
      "execution_count": null,
      "metadata": {
        "id": "Aq_kl5Bmi__9"
      },
      "outputs": [],
      "source": [
        "# допишите код для поиска a и b через 0 производной и выведите какой вышел результат\n",
        "a_b_analytical = np.linalg.inv(A.T @ A) @ A.T @ y\n",
        "print(f\"Аналитическое решение(а, b): {a_b_analytical[0]:.4f}, {a_b_analytical[1]:.4f}\")\n",
        "print(f\"Уравнение прямой: y = {a_b_analytical[0]:.4f}x + {a_b_analytical[0]:.4f}\")\n",
        "\n",
        "plt.figure(figsize=(7, 7))\n",
        "plt.scatter(A[:, 0], y, label='Данные с шумом')\n",
        "plt.plot(A[:, 0], A @ a_b_analytical, 'r-',\n",
        "         label=f'Аналитическое решение: y = {a_b_analytical[0]:.4f}x + {a_b_analytical[1]:.4f}')\n",
        "plt.axhline(0, color='black', linewidth=0.5)\n",
        "plt.axvline(0, color='black', linewidth=0.5)\n",
        "plt.grid(True)\n",
        "plt.legend()\n",
        "plt.title('Регрессия через нормальное уравнение')\n",
        "plt.show()"
      ]
    },
    {
      "cell_type": "code",
      "execution_count": null,
      "metadata": {
        "id": "OzcZcPaAi__9"
      },
      "outputs": [],
      "source": [
        "# постройте линию которая вышла рядом с изначальными данными\n",
        "# изначальные данные\n",
        "f, ax = plt.subplots(figsize=(7, 7))\n",
        "\n",
        "plt.scatter(A[:, 0], y, label='Данные с шумом')\n",
        "ax.set_xlim(-25, 25)\n",
        "ax.set_ylim(-25, 25)\n",
        "ax.axvline(0, color='black')\n",
        "ax.axhline(0, color='black')\n",
        "ax.grid(True)\n",
        "\n",
        "# линия которая обучилась\n",
        "x_line = np.array([-25, 25])\n",
        "y_line = a_b_analytical[0] * x_line + a_b_analytical[1]\n",
        "# нужно вместо троеточий подсчитать значения y которые\n",
        "# получаются при полученных параметрах линии\n",
        "# в точках x1 = -25, x2 = 25, этим мы построим линию по 2 точкам\n",
        "ax.plot(x_line, y_line, color='red', label=f'Регрессия: y = {a_b_analytical[0]:.4f}x + {a_b_analytical[1]:.4f}')\n",
        "plt.legend()\n",
        "plt.title('Регрессия через нормальное уравнение')\n",
        "plt.show()"
      ]
    },
    {
      "cell_type": "markdown",
      "metadata": {
        "id": "UP--WUF9i__-"
      },
      "source": [
        "## 2. Решение с помощью градиентного спуска\n",
        "\n",
        "С помощью найденных выше формул градиента, совершить шаги градиентного спуска для тех же данных.<br>\n",
        "Подобрать значение $\\alpha$, чтобы на графиках была видна сходимость за 10 шагов.<br> Начинаем с параметров 0, 0"
      ]
    },
    {
      "cell_type": "code",
      "execution_count": null,
      "metadata": {
        "id": "0SObvJXdi__-"
      },
      "outputs": [],
      "source": [
        "alpha = 0.0002\n",
        "a_b_grad = np.array([0.0, 0.0])\n",
        "\n",
        "for i in range(2000):\n",
        "    # получаем градиент\n",
        "    grad = 2 * A.T @ (A @ a_b_grad - y)\n",
        "    # получаем антиградиент\n",
        "    antigrad = -grad\n",
        "    # обновляем наши параметры линии\n",
        "    a_b_grad += alpha * antigrad\n",
        "  # - изначальные данные\n",
        "  # рисуем результат текущего шага\n",
        "plt.figure(figsize=(7,7))\n",
        "plt.scatter(A[:, 0], y, label='Данные с шумом')\n",
        "\n",
        "plt.xlim(-25, 25)\n",
        "plt.ylim(-25, 25)\n",
        "plt.axvline(0, color='black')\n",
        "plt.axhline(0, color='black')\n",
        "x_line = np.array([-25, 25])\n",
        "y_line = a_b_grad[0] * x_line + a_b_grad[1]\n",
        "plt.legend()\n",
        "plt.plot(x_line, y_line, 'r-', linewidth=2,\n",
        "             label=f'Шаг {i+1}: y = {a_b_grad[0]:.4f}x + {a_b_grad[1]:.4f}')\n",
        "plt.grid()\n",
        "plt.title(f'Градиентный спуск по данным после шага {i+1}')\n",
        "# - линия которая обучилась\n",
        "plt.show()\n",
        "print(f'\\nАналитическое решение: a = {a_orig:.4f}, b = {b_orig:.4f}')\n",
        "print(f'Результат градиентного спуска: a = {a_b_grad[0]:.4f}, b = {a_b_grad[1]:.4f}')"
      ]
    }
  ],
  "metadata": {
    "kernelspec": {
      "display_name": "churn",
      "language": "python",
      "name": "python3"
    },
    "language_info": {
      "codemirror_mode": {
        "name": "ipython",
        "version": 3
      },
      "file_extension": ".py",
      "mimetype": "text/x-python",
      "name": "python",
      "nbconvert_exporter": "python",
      "pygments_lexer": "ipython3",
      "version": "3.10.14"
    },
    "colab": {
      "provenance": []
    }
  },
  "nbformat": 4,
  "nbformat_minor": 0
}